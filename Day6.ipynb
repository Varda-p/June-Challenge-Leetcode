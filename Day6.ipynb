{
 "cells": [
  {
   "cell_type": "code",
   "execution_count": null,
   "metadata": {},
   "outputs": [],
   "source": [
    "class Solution(object):\n",
    "    def reconstructQueue(self, people):\n",
    "        \"\"\"\n",
    "        :type people: List[List[int]]\n",
    "        :rtype: List[List[int]]\n",
    "        \"\"\"\n",
    "        people.sort(key=lambda (h, k): (-h, k))\n",
    "\n",
    "        blocks = [[]]\n",
    "        for p in people:\n",
    "            index = p[1]\n",
    "\n",
    "            for i, block in enumerate(blocks):\n",
    "                if index <= len(block):\n",
    "                    break\n",
    "                index -= len(block)\n",
    "            block.insert(index, p)\n",
    "\n",
    "            if len(block) * len(block) > len(people):\n",
    "                blocks.insert(i+1, block[len(block)/2:])\n",
    "                del block[len(block)/2:]\n",
    "\n",
    "        return [p for block in blocks for p in block]"
   ]
  },
  {
   "cell_type": "code",
   "execution_count": null,
   "metadata": {},
   "outputs": [],
   "source": []
  }
 ],
 "metadata": {
  "kernelspec": {
   "display_name": "Python 3",
   "language": "python",
   "name": "python3"
  },
  "language_info": {
   "codemirror_mode": {
    "name": "ipython",
    "version": 3
   },
   "file_extension": ".py",
   "mimetype": "text/x-python",
   "name": "python",
   "nbconvert_exporter": "python",
   "pygments_lexer": "ipython3",
   "version": "3.7.6"
  }
 },
 "nbformat": 4,
 "nbformat_minor": 4
}
