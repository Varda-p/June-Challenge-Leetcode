{
 "cells": [
  {
   "cell_type": "code",
   "execution_count": null,
   "metadata": {},
   "outputs": [],
   "source": [
    "class Solution(object):\n",
    "    def sortColors(self, nums):\n",
    "        \"\"\"\n",
    "        :type nums: List[int]\n",
    "        :rtype: None Do not return anything, modify nums in-place instead.\n",
    "        \"\"\"\n",
    "        left = 0\n",
    "        current = 0\n",
    "        right = len(nums) - 1\n",
    "        \n",
    "        while current <= right:\n",
    "            if nums[current] == 0:\n",
    "                nums[left],nums[current] = nums[current],nums[left]\n",
    "                left +=1\n",
    "                current +=1\n",
    "             \n",
    "            elif nums[current] ==2:\n",
    "                nums[current], nums[right] = nums[right], nums[current]\n",
    "                right -= 1\n",
    "            \n",
    "            else:\n",
    "                current +=1\n",
    "        "
   ]
  }
 ],
 "metadata": {
  "kernelspec": {
   "display_name": "Python 3",
   "language": "python",
   "name": "python3"
  },
  "language_info": {
   "codemirror_mode": {
    "name": "ipython",
    "version": 3
   },
   "file_extension": ".py",
   "mimetype": "text/x-python",
   "name": "python",
   "nbconvert_exporter": "python",
   "pygments_lexer": "ipython3",
   "version": "3.7.6"
  }
 },
 "nbformat": 4,
 "nbformat_minor": 4
}
