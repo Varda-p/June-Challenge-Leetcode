{
 "cells": [
  {
   "cell_type": "code",
   "execution_count": null,
   "metadata": {},
   "outputs": [],
   "source": [
    "class Solution(object):\n",
    "    def twoCitySchedCost(self, costs):\n",
    "        \"\"\"\n",
    "        :type costs: List[List[int]]\n",
    "        :rtype: int\n",
    "        \"\"\"\n",
    "        N = len(costs)\n",
    "        diff = [c[0] - c[1] for c in costs]\n",
    "        indices =  sorted(range(0,N), key=lambda k:diff[k])\n",
    "        result = 0\n",
    "        for i in range(int(N/2)):\n",
    "            result += costs[indices[i]][0]\n",
    "            result += costs[indices[N-i-1]][1]\n",
    "        return result"
   ]
  }
 ],
 "metadata": {
  "kernelspec": {
   "display_name": "Python 3",
   "language": "python",
   "name": "python3"
  },
  "language_info": {
   "codemirror_mode": {
    "name": "ipython",
    "version": 3
   },
   "file_extension": ".py",
   "mimetype": "text/x-python",
   "name": "python",
   "nbconvert_exporter": "python",
   "pygments_lexer": "ipython3",
   "version": "3.7.6"
  }
 },
 "nbformat": 4,
 "nbformat_minor": 4
}
