{
 "cells": [
  {
   "cell_type": "code",
   "execution_count": null,
   "metadata": {},
   "outputs": [],
   "source": [
    "class Solution:\n",
    "    def findCheapestPrice(self, n: int, flights: List[List[int]], src: int, dst: int, K: int) -> int:\n",
    "        graph = collections.defaultdict(list)\n",
    "        pq = []\n",
    "        for u, v, w in flights: graph[u].append((w, v))\n",
    "        heapq.heappush(pq, (0, K+1, src))\n",
    "        while pq:\n",
    "            price, stops, city = heapq.heappop(pq)\n",
    "            if city is dst: return price\n",
    "            if stops>0:\n",
    "                for price_to_nei, nei in graph[city]:\n",
    "                    heapq.heappush(pq, (price+price_to_nei, stops-1, nei))\n",
    "        return -1"
   ]
  }
 ],
 "metadata": {
  "kernelspec": {
   "display_name": "Python 3",
   "language": "python",
   "name": "python3"
  },
  "language_info": {
   "codemirror_mode": {
    "name": "ipython",
    "version": 3
   },
   "file_extension": ".py",
   "mimetype": "text/x-python",
   "name": "python",
   "nbconvert_exporter": "python",
   "pygments_lexer": "ipython3",
   "version": "3.7.6"
  }
 },
 "nbformat": 4,
 "nbformat_minor": 4
}
